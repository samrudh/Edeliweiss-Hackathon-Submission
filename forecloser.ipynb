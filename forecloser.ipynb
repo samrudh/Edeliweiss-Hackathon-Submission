{
 "cells": [
  {
   "cell_type": "code",
   "execution_count": null,
   "metadata": {},
   "outputs": [],
   "source": [
    "import pandas as pd\n",
    "import numpy as np\n",
    "import random"
   ]
  },
  {
   "cell_type": "code",
   "execution_count": 117,
   "metadata": {},
   "outputs": [],
   "source": [
    "import datetime\n",
    "from sklearn import metrics\n",
    "from sklearn.model_selection import train_test_split"
   ]
  },
  {
   "cell_type": "code",
   "execution_count": 3,
   "metadata": {},
   "outputs": [],
   "source": [
    "data = pd.read_csv(\"train_foreclosure.csv\")"
   ]
  },
  {
   "cell_type": "code",
   "execution_count": 4,
   "metadata": {},
   "outputs": [],
   "source": [
    "lms = pd.read_excel(\"LMS_31JAN2019.xlsx\")"
   ]
  },
  {
   "cell_type": "code",
   "execution_count": 5,
   "metadata": {},
   "outputs": [],
   "source": [
    "val_msk = np.random.rand(len(data)) < 0.8"
   ]
  },
  {
   "cell_type": "code",
   "execution_count": 28,
   "metadata": {},
   "outputs": [],
   "source": [
    "train = data[val_msk]\n",
    "val = data[~val_msk]"
   ]
  },
  {
   "cell_type": "code",
   "execution_count": null,
   "metadata": {},
   "outputs": [],
   "source": []
  },
  {
   "cell_type": "code",
   "execution_count": null,
   "metadata": {},
   "outputs": [],
   "source": []
  },
  {
   "cell_type": "code",
   "execution_count": null,
   "metadata": {},
   "outputs": [],
   "source": [
    "# lms[\"disbursal_percent\"] = lms[\"NET_DISBURSED_AMT\"] / lms[\"LOAN_AMT\"]"
   ]
  },
  {
   "cell_type": "code",
   "execution_count": 7,
   "metadata": {},
   "outputs": [],
   "source": [
    "# lms[\"delta_roi\"] = lms[\"ORIGNAL_ROI\"] -  lms[\"CURRENT_ROI\"]"
   ]
  },
  {
   "cell_type": "code",
   "execution_count": null,
   "metadata": {},
   "outputs": [],
   "source": [
    "# lms[\"last_emi_days\"] = pd.to_datetime(\"2019-01-31\") - check[\"LAST_RECEIPT_DATE\"]"
   ]
  },
  {
   "cell_type": "code",
   "execution_count": null,
   "metadata": {},
   "outputs": [],
   "source": [
    "# lms[\"interest_days\"] = pd.to_datetime(\"2019-01-31\") - check[\"INTEREST_START_DATE\"]"
   ]
  },
  {
   "cell_type": "code",
   "execution_count": null,
   "metadata": {},
   "outputs": [],
   "source": [
    "# lms[\"authorization_days\"] = pd.to_datetime(\"2019-01-31\") - check[\"AUTHORIZATIONDATE\"]"
   ]
  },
  {
   "cell_type": "code",
   "execution_count": null,
   "metadata": {},
   "outputs": [],
   "source": [
    "# lms = lms.drop(['LAST_RECEIPT_DATE', 'INTEREST_START_DATE', \"AUTHORIZATIONDATE\", \"NET_DISBURSED_AMT\", \"ORIGNAL_ROI\"], axis=1)"
   ]
  },
  {
   "cell_type": "code",
   "execution_count": 238,
   "metadata": {},
   "outputs": [],
   "source": [
    "def preprocess(df, lms):\n",
    "    lms[\"rem_percent\"] = lms[\"PAID_PRINCIPAL\"] / lms[\"LOAN_AMT\"]\n",
    "    lms[\"delta_roi\"] = lms[\"ORIGNAL_ROI\"] -  lms[\"CURRENT_ROI\"]\n",
    "    lms[\"last_emi_days\"] = pd.to_datetime(\"2019-01-31\") - lms[\"LAST_RECEIPT_DATE\"]\n",
    "    lms[\"interest_days\"] = pd.to_datetime(\"2019-01-31\") - lms[\"INTEREST_START_DATE\"]\n",
    "    lms[\"authorization_days\"] = pd.to_datetime(\"2019-01-31\") - lms[\"AUTHORIZATIONDATE\"]\n",
    "    lms = lms.drop([\"PRODUCT\",\"NPA_IN_LAST_MONTH\",\"NPA_IN_CURRENT_MONTH\",'CITY','LAST_RECEIPT_DATE', 'INTEREST_START_DATE', \"AUTHORIZATIONDATE\"], axis=1)\n",
    "    new_df = pd.merge(df, lms, on=\"AGREEMENTID\", how=\"left\")\n",
    "    new_df[\"last_emi_days\"] = new_df[\"last_emi_days\"].dt.days\n",
    "    new_df[\"interest_days\"] = new_df[\"interest_days\"].dt.days\n",
    "    new_df[\"authorization_days\"] = new_df[\"authorization_days\"].dt.days\n",
    "    new_df = new_df.drop([ \"CUSTOMERID\"], axis =1)\n",
    "    return new_df\n",
    "    "
   ]
  },
  {
   "cell_type": "code",
   "execution_count": 9,
   "metadata": {},
   "outputs": [],
   "source": [
    "lms_cp = lms.copy()"
   ]
  },
  {
   "cell_type": "code",
   "execution_count": 239,
   "metadata": {},
   "outputs": [],
   "source": [
    "new_data = preprocess(data, lms_cp)"
   ]
  },
  {
   "cell_type": "code",
   "execution_count": 289,
   "metadata": {},
   "outputs": [],
   "source": [
    " X_train, X_test, y_train, y_test = train_test_split(new_data.drop([\"FORECLOSURE\"], axis=1), new_data[\"FORECLOSURE\"], test_size=0.33, random_state=34)"
   ]
  },
  {
   "cell_type": "code",
   "execution_count": 106,
   "metadata": {},
   "outputs": [],
   "source": [
    "# train = preprocess(train, lms_cp)"
   ]
  },
  {
   "cell_type": "code",
   "execution_count": 107,
   "metadata": {},
   "outputs": [],
   "source": [
    "# val = preprocess(val, lms_cp)"
   ]
  },
  {
   "cell_type": "code",
   "execution_count": 108,
   "metadata": {},
   "outputs": [],
   "source": [
    "# y_train = train[\"FORECLOSURE\"]\n",
    "# y_test =  val[\"FORECLOSURE\"]\n",
    "# X_train = train.drop([\"FORECLOSURE\", \"CUSTOMERID\"], axis=1)\n",
    "# X_test = val.drop([\"FORECLOSURE\", \"CUSTOMERID\"], axis=1)\n",
    "# X_train = X_train.set_index([\"AGREEMENTID\"])\n",
    "# X_test = X_test.set_index([\"AGREEMENTID\"])"
   ]
  },
  {
   "cell_type": "markdown",
   "metadata": {},
   "source": [
    "### XGBOOAST"
   ]
  },
  {
   "cell_type": "code",
   "execution_count": 318,
   "metadata": {},
   "outputs": [],
   "source": [
    "import xgboost"
   ]
  },
  {
   "cell_type": "code",
   "execution_count": 319,
   "metadata": {},
   "outputs": [
    {
     "data": {
      "text/plain": [
       "XGBClassifier(base_score=0.5, booster='gbtree', colsample_bylevel=1,\n",
       "       colsample_bytree=1, gamma=0, learning_rate=0.1, max_delta_step=0,\n",
       "       max_depth=3, min_child_weight=1, missing=None, n_estimators=100,\n",
       "       n_jobs=1, nthread=None, objective='binary:logistic', random_state=0,\n",
       "       reg_alpha=0, reg_lambda=1, scale_pos_weight=10, seed=None,\n",
       "       silent=True, subsample=1)"
      ]
     },
     "execution_count": 319,
     "metadata": {},
     "output_type": "execute_result"
    }
   ],
   "source": [
    "# fit model no training data\n",
    "model = xgboost.XGBClassifier(scale_pos_weight=10)\n",
    "model.fit(X_train.drop([\"AGREEMENTID\"],axis=1), y_train)"
   ]
  },
  {
   "cell_type": "code",
   "execution_count": 320,
   "metadata": {},
   "outputs": [
    {
     "data": {
      "text/plain": [
       "[('SCHEMEID', 0.38964587),\n",
       " ('interest_days', 0.30798167),\n",
       " ('last_emi_days', 0.23261076),\n",
       " ('CURRENT_ROI', 0.028399546),\n",
       " ('ORIGNAL_TENOR', 0.012996014),\n",
       " ('NET_RECEIVABLE', 0.0072159735),\n",
       " ('delta_roi', 0.0055733025),\n",
       " ('EMI_RECEIVED_AMT', 0.0031244764),\n",
       " ('FOIR', 0.001768977),\n",
       " ('LOAN_AMT', 0.0015911547),\n",
       " ('LAST_RECEIPT_AMOUNT', 0.0014610533),\n",
       " ('PRE_EMI_DUEAMT', 0.0014394774),\n",
       " ('rem_percent', 0.0013697915),\n",
       " ('authorization_days', 0.001074465),\n",
       " ('CURRENT_TENOR', 0.000989538),\n",
       " ('ORIGNAL_ROI', 0.0007060814),\n",
       " ('PRE_EMI_RECEIVED_AMT', 0.0006953048),\n",
       " ('PAID_INTEREST', 0.00068345515),\n",
       " ('NET_LTV', 0.00067305483),\n",
       " ('NET_DISBURSED_AMT', 0.0),\n",
       " ('DUEDAY', 0.0),\n",
       " ('PRE_EMI_OS_AMOUNT', 0.0),\n",
       " ('EMI_DUEAMT', 0.0),\n",
       " ('EMI_OS_AMOUNT', 0.0),\n",
       " ('EXCESS_AVAILABLE', 0.0),\n",
       " ('EXCESS_ADJUSTED_AMT', 0.0),\n",
       " ('BALANCE_EXCESS', 0.0),\n",
       " ('OUTSTANDING_PRINCIPAL', 0.0),\n",
       " ('PAID_PRINCIPAL', 0.0),\n",
       " ('MONTHOPENING', 0.0),\n",
       " ('COMPLETED_TENURE', 0.0),\n",
       " ('BALANCE_TENURE', 0.0),\n",
       " ('DPD', 0.0),\n",
       " ('MOB', 0.0),\n",
       " ('disbursal_percent', 0.0)]"
      ]
     },
     "execution_count": 320,
     "metadata": {},
     "output_type": "execute_result"
    }
   ],
   "source": [
    "feat_imp = list(model.feature_importances_)\n",
    "importance = {}\n",
    "for idx, column in enumerate(X_train.drop([\"AGREEMENTID\"],axis=1).columns):\n",
    "    importance[column] =  feat_imp[idx]\n",
    "sorted(importance.items(), key=lambda kv: -kv[1])"
   ]
  },
  {
   "cell_type": "code",
   "execution_count": 321,
   "metadata": {},
   "outputs": [],
   "source": [
    "### make predictions for test data\n",
    "y_pred = model.predict(X_test.drop([\"AGREEMENTID\"],axis=1))\n",
    "predictions1 = y_pred"
   ]
  },
  {
   "cell_type": "code",
   "execution_count": 322,
   "metadata": {},
   "outputs": [
    {
     "name": "stdout",
     "output_type": "stream",
     "text": [
      "Accuracy: 65.49%\n"
     ]
    }
   ],
   "source": [
    "accuracy = metrics.accuracy_score(y_test, predictions1)\n",
    "print(\"Accuracy: %.2f%%\" % (accuracy * 100.0))"
   ]
  },
  {
   "cell_type": "code",
   "execution_count": 323,
   "metadata": {},
   "outputs": [
    {
     "name": "stdout",
     "output_type": "stream",
     "text": [
      "AUC : 0.7559798996172769\n"
     ]
    }
   ],
   "source": [
    "fpr, tpr, thresholds = metrics.roc_curve(y_test, predictions1)\n",
    "auc = metrics.auc(fpr, tpr)\n",
    "print (\"AUC :\", auc)"
   ]
  },
  {
   "cell_type": "markdown",
   "metadata": {},
   "source": [
    "### LIGHTGBM"
   ]
  },
  {
   "cell_type": "code",
   "execution_count": 324,
   "metadata": {},
   "outputs": [],
   "source": [
    "import lightgbm as lgb\n",
    "import pandas as pd\n",
    "from sklearn.metrics import mean_squared_error"
   ]
  },
  {
   "cell_type": "code",
   "execution_count": 325,
   "metadata": {
    "scrolled": true
   },
   "outputs": [
    {
     "name": "stdout",
     "output_type": "stream",
     "text": [
      "Starting training...\n",
      "[1]\tvalid_0's l2: 0.0942457\tvalid_0's l1: 0.195239\n",
      "Training until validation scores don't improve for 15 rounds.\n",
      "[2]\tvalid_0's l2: 0.0887895\tvalid_0's l1: 0.188926\n",
      "[3]\tvalid_0's l2: 0.0844091\tvalid_0's l1: 0.183437\n",
      "[4]\tvalid_0's l2: 0.0803484\tvalid_0's l1: 0.17785\n",
      "[5]\tvalid_0's l2: 0.0771505\tvalid_0's l1: 0.173054\n",
      "[6]\tvalid_0's l2: 0.0743595\tvalid_0's l1: 0.168512\n",
      "[7]\tvalid_0's l2: 0.071964\tvalid_0's l1: 0.164331\n",
      "[8]\tvalid_0's l2: 0.0700332\tvalid_0's l1: 0.16059\n",
      "[9]\tvalid_0's l2: 0.0684096\tvalid_0's l1: 0.157204\n",
      "[10]\tvalid_0's l2: 0.0669312\tvalid_0's l1: 0.153954\n",
      "[11]\tvalid_0's l2: 0.0657318\tvalid_0's l1: 0.151124\n",
      "[12]\tvalid_0's l2: 0.0646744\tvalid_0's l1: 0.148576\n",
      "[13]\tvalid_0's l2: 0.0636655\tvalid_0's l1: 0.145966\n",
      "[14]\tvalid_0's l2: 0.0626133\tvalid_0's l1: 0.143458\n",
      "[15]\tvalid_0's l2: 0.0618876\tvalid_0's l1: 0.14147\n",
      "[16]\tvalid_0's l2: 0.0611261\tvalid_0's l1: 0.139497\n",
      "[17]\tvalid_0's l2: 0.0605711\tvalid_0's l1: 0.137882\n",
      "[18]\tvalid_0's l2: 0.0599727\tvalid_0's l1: 0.136214\n",
      "[19]\tvalid_0's l2: 0.0594764\tvalid_0's l1: 0.134704\n",
      "[20]\tvalid_0's l2: 0.0590514\tvalid_0's l1: 0.133479\n",
      "[21]\tvalid_0's l2: 0.0584735\tvalid_0's l1: 0.132073\n",
      "[22]\tvalid_0's l2: 0.0580141\tvalid_0's l1: 0.130679\n",
      "[23]\tvalid_0's l2: 0.0574808\tvalid_0's l1: 0.129494\n",
      "[24]\tvalid_0's l2: 0.057067\tvalid_0's l1: 0.128532\n",
      "[25]\tvalid_0's l2: 0.0565036\tvalid_0's l1: 0.127458\n",
      "[26]\tvalid_0's l2: 0.0560573\tvalid_0's l1: 0.126317\n",
      "[27]\tvalid_0's l2: 0.055707\tvalid_0's l1: 0.125505\n",
      "[28]\tvalid_0's l2: 0.0552823\tvalid_0's l1: 0.124617\n",
      "[29]\tvalid_0's l2: 0.0549289\tvalid_0's l1: 0.123858\n",
      "[30]\tvalid_0's l2: 0.0544704\tvalid_0's l1: 0.122957\n",
      "[31]\tvalid_0's l2: 0.0541679\tvalid_0's l1: 0.122344\n",
      "[32]\tvalid_0's l2: 0.0539129\tvalid_0's l1: 0.121821\n",
      "[33]\tvalid_0's l2: 0.0536012\tvalid_0's l1: 0.121171\n",
      "[34]\tvalid_0's l2: 0.0531666\tvalid_0's l1: 0.12042\n",
      "[35]\tvalid_0's l2: 0.0527541\tvalid_0's l1: 0.119667\n",
      "[36]\tvalid_0's l2: 0.0524428\tvalid_0's l1: 0.119062\n",
      "[37]\tvalid_0's l2: 0.0521587\tvalid_0's l1: 0.11842\n",
      "[38]\tvalid_0's l2: 0.0518781\tvalid_0's l1: 0.117913\n",
      "[39]\tvalid_0's l2: 0.0515731\tvalid_0's l1: 0.117305\n",
      "[40]\tvalid_0's l2: 0.0513313\tvalid_0's l1: 0.116814\n",
      "[41]\tvalid_0's l2: 0.0510969\tvalid_0's l1: 0.116398\n",
      "[42]\tvalid_0's l2: 0.0507427\tvalid_0's l1: 0.115787\n",
      "[43]\tvalid_0's l2: 0.050456\tvalid_0's l1: 0.115234\n",
      "[44]\tvalid_0's l2: 0.0502132\tvalid_0's l1: 0.114773\n",
      "[45]\tvalid_0's l2: 0.0499065\tvalid_0's l1: 0.114287\n",
      "[46]\tvalid_0's l2: 0.0496957\tvalid_0's l1: 0.114011\n",
      "[47]\tvalid_0's l2: 0.0494949\tvalid_0's l1: 0.113698\n",
      "[48]\tvalid_0's l2: 0.0493567\tvalid_0's l1: 0.11354\n",
      "[49]\tvalid_0's l2: 0.0491514\tvalid_0's l1: 0.113162\n",
      "[50]\tvalid_0's l2: 0.0489696\tvalid_0's l1: 0.112851\n",
      "[51]\tvalid_0's l2: 0.0488063\tvalid_0's l1: 0.112571\n",
      "[52]\tvalid_0's l2: 0.048663\tvalid_0's l1: 0.112448\n",
      "[53]\tvalid_0's l2: 0.0484574\tvalid_0's l1: 0.112105\n",
      "[54]\tvalid_0's l2: 0.0482781\tvalid_0's l1: 0.111814\n",
      "[55]\tvalid_0's l2: 0.0480922\tvalid_0's l1: 0.111538\n",
      "[56]\tvalid_0's l2: 0.0477555\tvalid_0's l1: 0.111116\n",
      "[57]\tvalid_0's l2: 0.0476045\tvalid_0's l1: 0.110933\n",
      "[58]\tvalid_0's l2: 0.0474793\tvalid_0's l1: 0.110694\n",
      "[59]\tvalid_0's l2: 0.0472567\tvalid_0's l1: 0.110374\n",
      "[60]\tvalid_0's l2: 0.0470765\tvalid_0's l1: 0.110064\n",
      "[61]\tvalid_0's l2: 0.0466817\tvalid_0's l1: 0.109483\n",
      "[62]\tvalid_0's l2: 0.0465585\tvalid_0's l1: 0.109293\n",
      "[63]\tvalid_0's l2: 0.0463135\tvalid_0's l1: 0.108887\n",
      "[64]\tvalid_0's l2: 0.0461938\tvalid_0's l1: 0.108752\n",
      "[65]\tvalid_0's l2: 0.0460798\tvalid_0's l1: 0.108586\n",
      "[66]\tvalid_0's l2: 0.0458634\tvalid_0's l1: 0.108343\n",
      "[67]\tvalid_0's l2: 0.045706\tvalid_0's l1: 0.108091\n",
      "[68]\tvalid_0's l2: 0.0455001\tvalid_0's l1: 0.107844\n",
      "[69]\tvalid_0's l2: 0.0453509\tvalid_0's l1: 0.107614\n",
      "[70]\tvalid_0's l2: 0.0451879\tvalid_0's l1: 0.107375\n",
      "[71]\tvalid_0's l2: 0.0449794\tvalid_0's l1: 0.107006\n",
      "[72]\tvalid_0's l2: 0.0448001\tvalid_0's l1: 0.10677\n",
      "[73]\tvalid_0's l2: 0.0446213\tvalid_0's l1: 0.106549\n",
      "[74]\tvalid_0's l2: 0.0445154\tvalid_0's l1: 0.10641\n",
      "[75]\tvalid_0's l2: 0.0442699\tvalid_0's l1: 0.106037\n",
      "[76]\tvalid_0's l2: 0.0441435\tvalid_0's l1: 0.105843\n",
      "[77]\tvalid_0's l2: 0.0440963\tvalid_0's l1: 0.105749\n",
      "[78]\tvalid_0's l2: 0.0438958\tvalid_0's l1: 0.1055\n",
      "[79]\tvalid_0's l2: 0.0437298\tvalid_0's l1: 0.10528\n",
      "[80]\tvalid_0's l2: 0.0436108\tvalid_0's l1: 0.105122\n",
      "[81]\tvalid_0's l2: 0.0435513\tvalid_0's l1: 0.105033\n",
      "[82]\tvalid_0's l2: 0.0433095\tvalid_0's l1: 0.104684\n",
      "[83]\tvalid_0's l2: 0.0432514\tvalid_0's l1: 0.104576\n",
      "[84]\tvalid_0's l2: 0.0430446\tvalid_0's l1: 0.104284\n",
      "[85]\tvalid_0's l2: 0.0429367\tvalid_0's l1: 0.104114\n",
      "[86]\tvalid_0's l2: 0.0428099\tvalid_0's l1: 0.103971\n",
      "[87]\tvalid_0's l2: 0.0426927\tvalid_0's l1: 0.103782\n",
      "[88]\tvalid_0's l2: 0.0426001\tvalid_0's l1: 0.103681\n",
      "[89]\tvalid_0's l2: 0.0424777\tvalid_0's l1: 0.103526\n",
      "[90]\tvalid_0's l2: 0.0423179\tvalid_0's l1: 0.103327\n",
      "[91]\tvalid_0's l2: 0.04213\tvalid_0's l1: 0.103108\n",
      "[92]\tvalid_0's l2: 0.0419941\tvalid_0's l1: 0.102921\n",
      "[93]\tvalid_0's l2: 0.0418558\tvalid_0's l1: 0.102725\n",
      "[94]\tvalid_0's l2: 0.0417653\tvalid_0's l1: 0.102619\n",
      "[95]\tvalid_0's l2: 0.0416374\tvalid_0's l1: 0.102422\n",
      "[96]\tvalid_0's l2: 0.0415518\tvalid_0's l1: 0.102299\n",
      "[97]\tvalid_0's l2: 0.0414835\tvalid_0's l1: 0.102236\n",
      "[98]\tvalid_0's l2: 0.0414637\tvalid_0's l1: 0.1022\n",
      "[99]\tvalid_0's l2: 0.0413231\tvalid_0's l1: 0.102023\n",
      "[100]\tvalid_0's l2: 0.0410921\tvalid_0's l1: 0.101717\n",
      "[101]\tvalid_0's l2: 0.0408511\tvalid_0's l1: 0.101341\n",
      "[102]\tvalid_0's l2: 0.0407701\tvalid_0's l1: 0.101192\n",
      "[103]\tvalid_0's l2: 0.0405897\tvalid_0's l1: 0.100887\n",
      "[104]\tvalid_0's l2: 0.0404824\tvalid_0's l1: 0.100669\n",
      "[105]\tvalid_0's l2: 0.0404209\tvalid_0's l1: 0.100583\n",
      "[106]\tvalid_0's l2: 0.0403633\tvalid_0's l1: 0.100507\n",
      "[107]\tvalid_0's l2: 0.0402754\tvalid_0's l1: 0.100395\n",
      "[108]\tvalid_0's l2: 0.040114\tvalid_0's l1: 0.100174\n",
      "[109]\tvalid_0's l2: 0.0399953\tvalid_0's l1: 0.100012\n",
      "[110]\tvalid_0's l2: 0.0399141\tvalid_0's l1: 0.0998927\n",
      "[111]\tvalid_0's l2: 0.039758\tvalid_0's l1: 0.0996559\n",
      "[112]\tvalid_0's l2: 0.0396839\tvalid_0's l1: 0.0995584\n",
      "[113]\tvalid_0's l2: 0.0396477\tvalid_0's l1: 0.0995376\n",
      "[114]\tvalid_0's l2: 0.0395236\tvalid_0's l1: 0.0994026\n",
      "[115]\tvalid_0's l2: 0.0394133\tvalid_0's l1: 0.0992691\n",
      "[116]\tvalid_0's l2: 0.0393359\tvalid_0's l1: 0.0991817\n",
      "[117]\tvalid_0's l2: 0.0390797\tvalid_0's l1: 0.0987735\n",
      "[118]\tvalid_0's l2: 0.039003\tvalid_0's l1: 0.0986241\n",
      "[119]\tvalid_0's l2: 0.0389543\tvalid_0's l1: 0.0985628\n",
      "[120]\tvalid_0's l2: 0.0388723\tvalid_0's l1: 0.0984432\n",
      "[121]\tvalid_0's l2: 0.0386919\tvalid_0's l1: 0.0982215\n",
      "[122]\tvalid_0's l2: 0.038614\tvalid_0's l1: 0.0980781\n",
      "[123]\tvalid_0's l2: 0.0385089\tvalid_0's l1: 0.0979603\n",
      "[124]\tvalid_0's l2: 0.0383691\tvalid_0's l1: 0.0977685\n",
      "[125]\tvalid_0's l2: 0.0382587\tvalid_0's l1: 0.0975909\n",
      "[126]\tvalid_0's l2: 0.0380122\tvalid_0's l1: 0.0972793\n",
      "[127]\tvalid_0's l2: 0.0378934\tvalid_0's l1: 0.0971315\n",
      "[128]\tvalid_0's l2: 0.0378047\tvalid_0's l1: 0.0970153\n",
      "[129]\tvalid_0's l2: 0.0376452\tvalid_0's l1: 0.096821\n",
      "[130]\tvalid_0's l2: 0.0375067\tvalid_0's l1: 0.0966326\n",
      "[131]\tvalid_0's l2: 0.0373253\tvalid_0's l1: 0.0963046\n",
      "[132]\tvalid_0's l2: 0.0371727\tvalid_0's l1: 0.0961289\n",
      "[133]\tvalid_0's l2: 0.0370574\tvalid_0's l1: 0.0959642\n",
      "[134]\tvalid_0's l2: 0.0368481\tvalid_0's l1: 0.0957011\n",
      "[135]\tvalid_0's l2: 0.0367609\tvalid_0's l1: 0.0955832\n",
      "[136]\tvalid_0's l2: 0.0366307\tvalid_0's l1: 0.0954343\n",
      "[137]\tvalid_0's l2: 0.0365234\tvalid_0's l1: 0.0953059\n",
      "[138]\tvalid_0's l2: 0.0364098\tvalid_0's l1: 0.0951432\n",
      "[139]\tvalid_0's l2: 0.0363427\tvalid_0's l1: 0.0950656\n",
      "[140]\tvalid_0's l2: 0.0362863\tvalid_0's l1: 0.0950165\n",
      "[141]\tvalid_0's l2: 0.0361457\tvalid_0's l1: 0.0948046\n",
      "[142]\tvalid_0's l2: 0.0360351\tvalid_0's l1: 0.0946459\n",
      "[143]\tvalid_0's l2: 0.0360082\tvalid_0's l1: 0.094615\n",
      "[144]\tvalid_0's l2: 0.0358524\tvalid_0's l1: 0.0943545\n",
      "[145]\tvalid_0's l2: 0.0357284\tvalid_0's l1: 0.0941243\n",
      "[146]\tvalid_0's l2: 0.0356173\tvalid_0's l1: 0.0939833\n",
      "[147]\tvalid_0's l2: 0.0355449\tvalid_0's l1: 0.0938658\n",
      "[148]\tvalid_0's l2: 0.0354121\tvalid_0's l1: 0.093686\n",
      "[149]\tvalid_0's l2: 0.035363\tvalid_0's l1: 0.0936402\n",
      "[150]\tvalid_0's l2: 0.0351985\tvalid_0's l1: 0.0934195\n",
      "[151]\tvalid_0's l2: 0.0351492\tvalid_0's l1: 0.0933168\n",
      "[152]\tvalid_0's l2: 0.0351094\tvalid_0's l1: 0.0932782\n",
      "[153]\tvalid_0's l2: 0.0350406\tvalid_0's l1: 0.0931764\n",
      "[154]\tvalid_0's l2: 0.0349815\tvalid_0's l1: 0.0930556\n",
      "[155]\tvalid_0's l2: 0.0349344\tvalid_0's l1: 0.0929779\n",
      "[156]\tvalid_0's l2: 0.0348209\tvalid_0's l1: 0.0928235\n"
     ]
    },
    {
     "name": "stdout",
     "output_type": "stream",
     "text": [
      "[157]\tvalid_0's l2: 0.0346689\tvalid_0's l1: 0.0925973\n",
      "[158]\tvalid_0's l2: 0.0346078\tvalid_0's l1: 0.092496\n",
      "[159]\tvalid_0's l2: 0.034498\tvalid_0's l1: 0.0923625\n",
      "[160]\tvalid_0's l2: 0.0344255\tvalid_0's l1: 0.0922802\n",
      "[161]\tvalid_0's l2: 0.0343787\tvalid_0's l1: 0.0922188\n",
      "[162]\tvalid_0's l2: 0.034339\tvalid_0's l1: 0.092136\n",
      "[163]\tvalid_0's l2: 0.0342892\tvalid_0's l1: 0.0920597\n",
      "[164]\tvalid_0's l2: 0.0342087\tvalid_0's l1: 0.091967\n",
      "[165]\tvalid_0's l2: 0.0340076\tvalid_0's l1: 0.0916657\n",
      "[166]\tvalid_0's l2: 0.0338914\tvalid_0's l1: 0.0915089\n",
      "[167]\tvalid_0's l2: 0.0337688\tvalid_0's l1: 0.0913376\n",
      "[168]\tvalid_0's l2: 0.0336028\tvalid_0's l1: 0.0911091\n",
      "[169]\tvalid_0's l2: 0.033528\tvalid_0's l1: 0.0909855\n",
      "[170]\tvalid_0's l2: 0.033464\tvalid_0's l1: 0.0908935\n",
      "[171]\tvalid_0's l2: 0.0333601\tvalid_0's l1: 0.0907536\n",
      "[172]\tvalid_0's l2: 0.0332542\tvalid_0's l1: 0.090582\n",
      "[173]\tvalid_0's l2: 0.0331402\tvalid_0's l1: 0.090441\n",
      "[174]\tvalid_0's l2: 0.0330651\tvalid_0's l1: 0.0903472\n",
      "[175]\tvalid_0's l2: 0.0329853\tvalid_0's l1: 0.090186\n",
      "[176]\tvalid_0's l2: 0.0328319\tvalid_0's l1: 0.089916\n",
      "[177]\tvalid_0's l2: 0.0327938\tvalid_0's l1: 0.0898544\n",
      "[178]\tvalid_0's l2: 0.0326823\tvalid_0's l1: 0.0896981\n",
      "[179]\tvalid_0's l2: 0.0325409\tvalid_0's l1: 0.0894906\n",
      "[180]\tvalid_0's l2: 0.03248\tvalid_0's l1: 0.089383\n",
      "[181]\tvalid_0's l2: 0.03244\tvalid_0's l1: 0.0893117\n",
      "[182]\tvalid_0's l2: 0.0323691\tvalid_0's l1: 0.089207\n",
      "[183]\tvalid_0's l2: 0.0322925\tvalid_0's l1: 0.089095\n",
      "[184]\tvalid_0's l2: 0.0322517\tvalid_0's l1: 0.0890202\n",
      "[185]\tvalid_0's l2: 0.0322261\tvalid_0's l1: 0.0889659\n",
      "[186]\tvalid_0's l2: 0.0320549\tvalid_0's l1: 0.0887191\n",
      "[187]\tvalid_0's l2: 0.0319867\tvalid_0's l1: 0.0886221\n",
      "[188]\tvalid_0's l2: 0.0318576\tvalid_0's l1: 0.0884163\n",
      "[189]\tvalid_0's l2: 0.0317805\tvalid_0's l1: 0.0883308\n",
      "[190]\tvalid_0's l2: 0.0317168\tvalid_0's l1: 0.0882476\n",
      "[191]\tvalid_0's l2: 0.0316344\tvalid_0's l1: 0.0881333\n",
      "[192]\tvalid_0's l2: 0.0314817\tvalid_0's l1: 0.0878746\n",
      "[193]\tvalid_0's l2: 0.0313077\tvalid_0's l1: 0.087622\n",
      "[194]\tvalid_0's l2: 0.0312038\tvalid_0's l1: 0.0874989\n",
      "[195]\tvalid_0's l2: 0.0311212\tvalid_0's l1: 0.087388\n",
      "[196]\tvalid_0's l2: 0.0310093\tvalid_0's l1: 0.0871884\n",
      "[197]\tvalid_0's l2: 0.0309743\tvalid_0's l1: 0.0871142\n",
      "[198]\tvalid_0's l2: 0.0308705\tvalid_0's l1: 0.0869526\n",
      "[199]\tvalid_0's l2: 0.0308157\tvalid_0's l1: 0.0868812\n",
      "[200]\tvalid_0's l2: 0.0308012\tvalid_0's l1: 0.0868404\n",
      "Did not meet early stopping. Best iteration is:\n",
      "[200]\tvalid_0's l2: 0.0308012\tvalid_0's l1: 0.0868404\n",
      "Saving model...\n"
     ]
    },
    {
     "data": {
      "text/plain": [
       "<lightgbm.basic.Booster at 0x20f3c2b8f60>"
      ]
     },
     "execution_count": 325,
     "metadata": {},
     "output_type": "execute_result"
    }
   ],
   "source": [
    "\n",
    "# create dataset for lightgbm\n",
    "lgb_train = lgb.Dataset(X_train.drop([\"AGREEMENTID\"],axis=1), y_train)\n",
    "lgb_eval = lgb.Dataset(X_test.drop([\"AGREEMENTID\"],axis=1), y_test, reference=lgb_train)\n",
    "\n",
    "# specify your configurations as a dict\n",
    "params = {\n",
    "    'boosting_type': 'gbdt',\n",
    "    'objective': 'regression',\n",
    "    'metric': {'l2', 'l1'},\n",
    "    'num_leaves': 31,\n",
    "    'learning_rate': 0.1,\n",
    "    'feature_fraction': 0.9,\n",
    "    'bagging_fraction': 0.8,\n",
    "    'bagging_freq': 5,\n",
    "    'verbose': 0\n",
    "}\n",
    "\n",
    "print('Starting training...')\n",
    "# train\n",
    "gbm = lgb.train(params,\n",
    "                lgb_train,\n",
    "                num_boost_round=200,\n",
    "                valid_sets=lgb_eval,\n",
    "                early_stopping_rounds=15)\n",
    "\n",
    "print('Saving model...')\n",
    "# save model to file\n",
    "gbm.save_model('model.txt')\n",
    "\n",
    "\n"
   ]
  },
  {
   "cell_type": "code",
   "execution_count": 326,
   "metadata": {},
   "outputs": [
    {
     "name": "stdout",
     "output_type": "stream",
     "text": [
      "Starting predicting...\n"
     ]
    }
   ],
   "source": [
    "print('Starting predicting...')\n",
    "# predict\n",
    "predictions2 = gbm.predict(X_test.drop([\"AGREEMENTID\"],axis=1),num_iteration=gbm.best_iteration )\n"
   ]
  },
  {
   "cell_type": "code",
   "execution_count": 327,
   "metadata": {},
   "outputs": [
    {
     "name": "stdout",
     "output_type": "stream",
     "text": [
      "The auc of prediction is: 0.9858454382279377\n"
     ]
    }
   ],
   "source": [
    "# eval\n",
    "fpr, tpr, thresholds = metrics.roc_curve(y_test, predictions2)\n",
    "auc = metrics.auc(fpr, tpr)\n",
    "print('The auc of prediction is:', auc)"
   ]
  },
  {
   "cell_type": "markdown",
   "metadata": {},
   "source": [
    "### Stacking"
   ]
  },
  {
   "cell_type": "code",
   "execution_count": 330,
   "metadata": {},
   "outputs": [
    {
     "name": "stdout",
     "output_type": "stream",
     "text": [
      "AUC : 0.7970096259956487\n"
     ]
    }
   ],
   "source": [
    "a = 0.1\n",
    "b = 1- b\n",
    "final_pred =  np.maximum(predictions1, predictions2) #(a*predictions1) + (b*predictions2)\n",
    "fpr, tpr, thresholds = metrics.roc_curve(y_test, final_pred)\n",
    "auc = metrics.auc(fpr, tpr)\n",
    "print (\"AUC :\", auc)"
   ]
  },
  {
   "cell_type": "code",
   "execution_count": 288,
   "metadata": {},
   "outputs": [
    {
     "data": {
      "text/plain": [
       "array([0, 0, 0, ..., 0, 0, 0], dtype=int64)"
      ]
     },
     "execution_count": 288,
     "metadata": {},
     "output_type": "execute_result"
    }
   ],
   "source": [
    "predictions1"
   ]
  },
  {
   "cell_type": "code",
   "execution_count": 338,
   "metadata": {},
   "outputs": [],
   "source": [
    "test = pd.read_csv(\"test_foreclosure.csv\")"
   ]
  },
  {
   "cell_type": "code",
   "execution_count": 339,
   "metadata": {},
   "outputs": [],
   "source": [
    "test = preprocess(test, lms_cp)"
   ]
  },
  {
   "cell_type": "code",
   "execution_count": 340,
   "metadata": {},
   "outputs": [
    {
     "data": {
      "text/plain": [
       "Index(['AGREEMENTID', 'FORECLOSURE', 'LOAN_AMT', 'NET_DISBURSED_AMT',\n",
       "       'CURRENT_ROI', 'ORIGNAL_ROI', 'CURRENT_TENOR', 'ORIGNAL_TENOR',\n",
       "       'DUEDAY', 'PRE_EMI_DUEAMT', 'PRE_EMI_RECEIVED_AMT', 'PRE_EMI_OS_AMOUNT',\n",
       "       'EMI_DUEAMT', 'EMI_RECEIVED_AMT', 'EMI_OS_AMOUNT', 'EXCESS_AVAILABLE',\n",
       "       'EXCESS_ADJUSTED_AMT', 'BALANCE_EXCESS', 'NET_RECEIVABLE',\n",
       "       'OUTSTANDING_PRINCIPAL', 'PAID_PRINCIPAL', 'PAID_INTEREST',\n",
       "       'MONTHOPENING', 'LAST_RECEIPT_AMOUNT', 'NET_LTV', 'COMPLETED_TENURE',\n",
       "       'BALANCE_TENURE', 'DPD', 'FOIR', 'SCHEMEID', 'MOB', 'disbursal_percent',\n",
       "       'delta_roi', 'last_emi_days', 'interest_days', 'authorization_days',\n",
       "       'rem_percent'],\n",
       "      dtype='object')"
      ]
     },
     "execution_count": 340,
     "metadata": {},
     "output_type": "execute_result"
    }
   ],
   "source": [
    "test.columns"
   ]
  },
  {
   "cell_type": "code",
   "execution_count": 341,
   "metadata": {},
   "outputs": [],
   "source": [
    "# make predictions for test data\n",
    "predictions1 = model.predict(test.drop([\"AGREEMENTID\",\"FORECLOSURE\"], axis=1))"
   ]
  },
  {
   "cell_type": "code",
   "execution_count": 342,
   "metadata": {},
   "outputs": [],
   "source": [
    "# make predictions for test data\n",
    "predictions2 = gbm.predict(test.drop([\"AGREEMENTID\",\"FORECLOSURE\"], axis=1), num_iteration=gbm.best_iteration)"
   ]
  },
  {
   "cell_type": "code",
   "execution_count": 343,
   "metadata": {},
   "outputs": [],
   "source": [
    "final_pred = (a*predictions1) + (b*predictions2)\n",
    "test[\"FORECLOSURE\"] = predictions2"
   ]
  },
  {
   "cell_type": "code",
   "execution_count": 344,
   "metadata": {},
   "outputs": [],
   "source": [
    "test = test[[\"AGREEMENTID\", \"FORECLOSURE\"]]\n",
    "test.to_csv(\"output.csv\", header=True, index=False)"
   ]
  },
  {
   "cell_type": "code",
   "execution_count": null,
   "metadata": {},
   "outputs": [],
   "source": []
  },
  {
   "cell_type": "code",
   "execution_count": null,
   "metadata": {},
   "outputs": [],
   "source": []
  }
 ],
 "metadata": {
  "kernelspec": {
   "display_name": "Python 3",
   "language": "python",
   "name": "python3"
  },
  "language_info": {
   "codemirror_mode": {
    "name": "ipython",
    "version": 3
   },
   "file_extension": ".py",
   "mimetype": "text/x-python",
   "name": "python",
   "nbconvert_exporter": "python",
   "pygments_lexer": "ipython3",
   "version": "3.7.1"
  }
 },
 "nbformat": 4,
 "nbformat_minor": 2
}
